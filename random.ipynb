{
 "cells": [
  {
   "cell_type": "code",
   "execution_count": 3,
   "metadata": {},
   "outputs": [],
   "source": [
    "import numpy as np"
   ]
  },
  {
   "cell_type": "code",
   "execution_count": 16,
   "metadata": {},
   "outputs": [],
   "source": [
    "class deneme_random():\n",
    "    def __init__(self, seed):\n",
    "        np.random.seed(seed)\n",
    "        pass\n",
    "    def loop(self):\n",
    "        #for i in range(10):\n",
    "        #    print(np.random.randint(0,100))\n",
    "        pass\n",
    "    def matrix(self):\n",
    "        batches = [1,2,3,4,5,6,7,8,9,10]\n",
    "        # shuffle batches\n",
    "        for i in range(10):\n",
    "            np.random.shuffle(batches)\n",
    "            print(batches)"
   ]
  },
  {
   "cell_type": "code",
   "execution_count": 25,
   "metadata": {},
   "outputs": [
    {
     "name": "stdout",
     "output_type": "stream",
     "text": [
      "[9, 2, 6, 1, 8, 3, 10, 5, 4, 7]\n",
      "[9, 2, 4, 3, 1, 8, 5, 7, 10, 6]\n",
      "[6, 4, 9, 5, 10, 8, 3, 7, 2, 1]\n",
      "[4, 7, 3, 9, 2, 6, 5, 10, 8, 1]\n",
      "[7, 6, 2, 8, 4, 10, 5, 9, 3, 1]\n",
      "[3, 2, 10, 9, 8, 6, 1, 7, 4, 5]\n",
      "[3, 6, 10, 1, 9, 7, 8, 2, 4, 5]\n",
      "[9, 4, 6, 1, 3, 7, 10, 5, 2, 8]\n",
      "[6, 9, 3, 8, 2, 10, 5, 7, 4, 1]\n",
      "[2, 3, 7, 6, 5, 8, 10, 4, 1, 9]\n"
     ]
    }
   ],
   "source": [
    "model = deneme_random(42)\n",
    "model.loop()\n",
    "model.matrix()"
   ]
  }
 ],
 "metadata": {
  "kernelspec": {
   "display_name": "data",
   "language": "python",
   "name": "python3"
  },
  "language_info": {
   "codemirror_mode": {
    "name": "ipython",
    "version": 3
   },
   "file_extension": ".py",
   "mimetype": "text/x-python",
   "name": "python",
   "nbconvert_exporter": "python",
   "pygments_lexer": "ipython3",
   "version": "3.8.17"
  }
 },
 "nbformat": 4,
 "nbformat_minor": 2
}
