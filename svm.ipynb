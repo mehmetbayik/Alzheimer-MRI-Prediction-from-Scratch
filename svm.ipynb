{
 "cells": [
  {
   "cell_type": "code",
   "execution_count": 5,
   "metadata": {},
   "outputs": [],
   "source": [
    "\"\"\" \n",
    "dependencies:\n",
    "  - python=3.8.17\n",
    "  - numpy=1.24.0\n",
    "  - matplotlib=3.7.1\n",
    "  - pandas=2.0.2 \n",
    "\"\"\"\n",
    "import os\n",
    "import random\n",
    "import datetime\n",
    "from itertools import product \n",
    "\n",
    "import numpy as np\n",
    "import pandas as pd\n",
    "import matplotlib.pyplot as plt \n",
    "\n",
    "# import random\n",
    "# random.seed(42)\n",
    "# np.random.seed(42)\n",
    "# np.random.RandomState(42)\n",
    "# os.environ['TF_DETERMINISTIC_OPS'] = '1' \n",
    "\n",
    "finish_sound = \"afplay /Users/mehmet/Documents/vs-code/winsquare.mp3\"\n",
    "# play sound when finished\n",
    "# os.system(finish_sound)"
   ]
  },
  {
   "cell_type": "code",
   "execution_count": 6,
   "metadata": {},
   "outputs": [
    {
     "name": "stdout",
     "output_type": "stream",
     "text": [
      "(5120, 10859) (5120,) \n",
      " (640, 10859) (640,) \n",
      " (640, 10859) (640,)\n"
     ]
    }
   ],
   "source": [
    "# Read data from npy file ( already preprocessed )\n",
    "X_train = np.load('dataset/numpy-arrays/X_train.npy')\n",
    "X_val = np.load('dataset/numpy-arrays/X_val.npy')\n",
    "X_test = np.load('dataset/numpy-arrays/X_test.npy')\n",
    "y_train = np.load('dataset/numpy-arrays/y_train.npy')\n",
    "y_val = np.load('dataset/numpy-arrays/y_val.npy')\n",
    "y_test = np.load('dataset/numpy-arrays/y_test.npy')\n",
    "\n",
    "# # Add Bias to X\n",
    "# X_train = np.concatenate((np.ones((X_train.shape[0], 1)), X_train), axis=1)\n",
    "# X_val = np.concatenate((np.ones((X_val.shape[0], 1)), X_val), axis=1)\n",
    "# X_test = np.concatenate((np.ones((X_test.shape[0], 1)), X_test), axis=1)\n",
    "# X_train.shape, X_val.shape, X_test.shape\n",
    "\n",
    "# Remove one hot encoding from y\n",
    "y_train = np.argmax(y_train, axis=1)\n",
    "y_val = np.argmax(y_val, axis=1)\n",
    "y_test = np.argmax(y_test, axis=1)\n",
    "\n",
    "print(X_train.shape, y_train.shape,'\\n', X_val.shape, y_val.shape,'\\n', X_test.shape, y_test.shape)\n",
    "\n"
   ]
  },
  {
   "cell_type": "code",
   "execution_count": 7,
   "metadata": {},
   "outputs": [],
   "source": [
    "class SVM:\n",
    "    def __init__(self):\n",
    "        self.weights = None\n",
    "        self.bias = None\n",
    "\n",
    "    def one_hot_encode(self, y, num_classes):\n",
    "        y_one_hot = np.zeros((len(y), num_classes))\n",
    "        y_one_hot[np.arange(len(y)), y] = 1\n",
    "        return y_one_hot\n",
    "\n",
    "    def hinge_loss(self, scores, correct_class):\n",
    "        margins = np.maximum(0, scores - scores[correct_class] + 1)\n",
    "        margins[correct_class] = 0\n",
    "        loss = np.sum(margins)\n",
    "        return loss\n",
    "\n",
    "    def fit(self, X, y, learning_rate=0.01, lambda_param=0.01, num_epochs=1000):\n",
    "        num_samples, num_features = X.shape\n",
    "        num_classes = len(np.unique(y))\n",
    "\n",
    "        self.weights = np.random.rand(num_features, num_classes)\n",
    "        self.bias = np.zeros(num_classes)\n",
    "\n",
    "        y_encoded = y\n",
    "        y = np.argmax(self.one_hot_encode(y, num_classes), axis=1)\n",
    "\n",
    "        for epoch in range(num_epochs):\n",
    "            scores = X.dot(self.weights) + self.bias\n",
    "            correct_class_mask = (np.arange(num_samples), y)\n",
    "\n",
    "            margins = np.maximum(0, scores - scores[correct_class_mask][:, np.newaxis] + 1)\n",
    "            margins[correct_class_mask] = 0\n",
    "\n",
    "            loss = np.sum(margins)\n",
    "\n",
    "            grad_mask = (margins > 0).astype(float)\n",
    "            grad_mask[correct_class_mask] = -np.sum(grad_mask, axis=1)\n",
    "\n",
    "            self.weights -= learning_rate * (X.T.dot(grad_mask) / num_samples + lambda_param * self.weights)\n",
    "            self.bias -= learning_rate * np.sum(grad_mask, axis=0) / num_samples\n",
    "            \n",
    "            # For each 100 epochs print losses and accuracy\n",
    "            if epoch % 100 == 0:\n",
    "                # how to calculate accuracy\n",
    "                predictions = self.predict(X)\n",
    "                accuracy = np.mean(predictions == y)         \n",
    "                print(f'Epoch: {epoch}, Loss: {loss}, Accuracy: {accuracy}')\n",
    "\n",
    "    def predict(self, X):\n",
    "        scores = X.dot(self.weights) + self.bias\n",
    "        predictions = np.argmax(scores, axis=1)\n",
    "        return predictions\n"
   ]
  },
  {
   "cell_type": "code",
   "execution_count": 10,
   "metadata": {},
   "outputs": [
    {
     "name": "stdout",
     "output_type": "stream",
     "text": [
      "Epoch: 0, Loss: 236098.02074514746, Accuracy: 0.319140625\n",
      "Epoch: 100, Loss: 67563.8051520372, Accuracy: 0.6787109375\n",
      "Epoch: 200, Loss: 3699.0453832698927, Accuracy: 0.9435546875\n",
      "Epoch: 300, Loss: 423.5297828278527, Accuracy: 0.98359375\n",
      "Epoch: 400, Loss: 26.068458399992892, Accuracy: 0.9994140625\n",
      "Epoch: 500, Loss: 0.0, Accuracy: 1.0\n",
      "Epoch: 600, Loss: 0.0, Accuracy: 1.0\n",
      "Epoch: 700, Loss: 1.021893126245267, Accuracy: 1.0\n",
      "Epoch: 800, Loss: 0.0, Accuracy: 1.0\n",
      "Epoch: 900, Loss: 758.8346585827685, Accuracy: 0.9796875\n",
      "Val. Accuracy: 0.815625\n",
      "Test Accuracy: 0.81875\n"
     ]
    }
   ],
   "source": [
    "model = SVM()\n",
    "model.fit(X_train, y_train,\n",
    "        learning_rate=0.1, lambda_param=0.01, num_epochs=1000)\n",
    "\n",
    "# Val predictions\n",
    "predictions = model.predict(X_val)\n",
    "print('Val. Accuracy:',np.mean(predictions == y_val))\n",
    "\n",
    "# Test predictions\n",
    "predictions = model.predict(X_test)\n",
    "print('Test Accuracy:',np.mean(predictions == y_test))\n"
   ]
  },
  {
   "cell_type": "code",
   "execution_count": 23,
   "metadata": {},
   "outputs": [
    {
     "ename": "IndexError",
     "evalue": "index 1 is out of bounds for axis 1 with size 1",
     "output_type": "error",
     "traceback": [
      "\u001b[0;31m---------------------------------------------------------------------------\u001b[0m",
      "\u001b[0;31mIndexError\u001b[0m                                Traceback (most recent call last)",
      "\u001b[1;32m/Users/mehmet/Documents/vs-code/EEE485-Statistical-Learning-and-Data-Analytics/svm.ipynb Cell 5\u001b[0m line \u001b[0;36m1\n\u001b[1;32m     <a href='vscode-notebook-cell:/Users/mehmet/Documents/vs-code/EEE485-Statistical-Learning-and-Data-Analytics/svm.ipynb#W5sZmlsZQ%3D%3D?line=10'>11</a>\u001b[0m scores \u001b[39m=\u001b[39m X\u001b[39m.\u001b[39mdot(W)\n\u001b[1;32m     <a href='vscode-notebook-cell:/Users/mehmet/Documents/vs-code/EEE485-Statistical-Learning-and-Data-Analytics/svm.ipynb#W5sZmlsZQ%3D%3D?line=12'>13</a>\u001b[0m \u001b[39m# Record the score of the example's correct class\u001b[39;00m\n\u001b[0;32m---> <a href='vscode-notebook-cell:/Users/mehmet/Documents/vs-code/EEE485-Statistical-Learning-and-Data-Analytics/svm.ipynb#W5sZmlsZQ%3D%3D?line=13'>14</a>\u001b[0m correct_class_score \u001b[39m=\u001b[39m scores[np\u001b[39m.\u001b[39;49marange(num_train), y]\n\u001b[1;32m     <a href='vscode-notebook-cell:/Users/mehmet/Documents/vs-code/EEE485-Statistical-Learning-and-Data-Analytics/svm.ipynb#W5sZmlsZQ%3D%3D?line=14'>15</a>\u001b[0m correct_class_score \u001b[39m=\u001b[39m correct_class_score\u001b[39m.\u001b[39mreshape(\u001b[39m-\u001b[39m\u001b[39m1\u001b[39m, \u001b[39m1\u001b[39m)  \u001b[39m# Reshape correct_class_score\u001b[39;00m\n\u001b[1;32m     <a href='vscode-notebook-cell:/Users/mehmet/Documents/vs-code/EEE485-Statistical-Learning-and-Data-Analytics/svm.ipynb#W5sZmlsZQ%3D%3D?line=16'>17</a>\u001b[0m \u001b[39m# Compute for the margin by getting the max between 0 and the computed expression\u001b[39;00m\n",
      "\u001b[0;31mIndexError\u001b[0m: index 1 is out of bounds for axis 1 with size 1"
     ]
    }
   ],
   "source": [
    "X = X_train\n",
    "y = y_train\n",
    "\n",
    "# Initialize the weights (zero)\n",
    "\n",
    "W = np.zeros((X.shape[1], 1))\n",
    "\n",
    "num_train = X.shape[0]\n",
    "delta = 1.0\n",
    "\n",
    "# Compute for the scores\n",
    "scores = X.dot(W)\n",
    "\n",
    "# Record the score of the example's correct class\n",
    "correct_class_score = scores[np.arange(num_train), y]\n",
    "\n",
    "# Compute for the margin by getting the max between 0 and the computed expression\n",
    "margins = np.maximum(0, scores - correct_class_score[:,np.newaxis] + delta)\n",
    "margins[np.arange(num_train), y] = 0\n",
    "\n",
    "# Add all the losses together\n",
    "loss = np.sum(margins)\n",
    "# Divide the loss all over the number of training examples\n",
    "loss /= num_train\n",
    "# Regularize\n",
    "reg = 1e-3\n",
    "loss += 0.5 * reg * np.sum(W * W)\n",
    "\n",
    "# This mask can flag the examples in which their margin is greater than 0\n",
    "X_mask = np.zeros(margins.shape)\n",
    "X_mask[margins > 0] = 1\n",
    "\n",
    "# As usual, we count the number of these examples where margin > 0\n",
    "count = np.sum(X_mask,axis=1)\n",
    "X_mask[np.arange(num_train),y] = -count\n",
    "\n",
    "dW = X.T.dot(X_mask)\n",
    "\n",
    "# Divide the gradient all over the number of training examples\n",
    "dW /= num_train\n",
    "\n",
    "# Regularize\n",
    "dW += reg*W"
   ]
  },
  {
   "cell_type": "code",
   "execution_count": 8,
   "metadata": {},
   "outputs": [
    {
     "ename": "ValueError",
     "evalue": "shapes (10859,) and (4,) not aligned: 10859 (dim 0) != 4 (dim 0)",
     "output_type": "error",
     "traceback": [
      "\u001b[0;31m---------------------------------------------------------------------------\u001b[0m",
      "\u001b[0;31mValueError\u001b[0m                                Traceback (most recent call last)",
      "\u001b[1;32m/Users/mehmet/Documents/vs-code/EEE485-Statistical-Learning-and-Data-Analytics/svm.ipynb Cell 4\u001b[0m line \u001b[0;36m2\n\u001b[1;32m      <a href='vscode-notebook-cell:/Users/mehmet/Documents/vs-code/EEE485-Statistical-Learning-and-Data-Analytics/svm.ipynb#W3sZmlsZQ%3D%3D?line=0'>1</a>\u001b[0m model \u001b[39m=\u001b[39m SVM()\n\u001b[0;32m----> <a href='vscode-notebook-cell:/Users/mehmet/Documents/vs-code/EEE485-Statistical-Learning-and-Data-Analytics/svm.ipynb#W3sZmlsZQ%3D%3D?line=1'>2</a>\u001b[0m model\u001b[39m.\u001b[39;49mfit(X_train, y_train)\n",
      "\u001b[1;32m/Users/mehmet/Documents/vs-code/EEE485-Statistical-Learning-and-Data-Analytics/svm.ipynb Cell 4\u001b[0m line \u001b[0;36m2\n\u001b[1;32m     <a href='vscode-notebook-cell:/Users/mehmet/Documents/vs-code/EEE485-Statistical-Learning-and-Data-Analytics/svm.ipynb#W3sZmlsZQ%3D%3D?line=18'>19</a>\u001b[0m     \u001b[39mself\u001b[39m\u001b[39m.\u001b[39mw \u001b[39m-\u001b[39m\u001b[39m=\u001b[39m \u001b[39mself\u001b[39m\u001b[39m.\u001b[39mlr \u001b[39m*\u001b[39m (\u001b[39m2\u001b[39m \u001b[39m*\u001b[39m \u001b[39mself\u001b[39m\u001b[39m.\u001b[39mlambda_param \u001b[39m*\u001b[39m \u001b[39mself\u001b[39m\u001b[39m.\u001b[39mw)\n\u001b[1;32m     <a href='vscode-notebook-cell:/Users/mehmet/Documents/vs-code/EEE485-Statistical-Learning-and-Data-Analytics/svm.ipynb#W3sZmlsZQ%3D%3D?line=19'>20</a>\u001b[0m \u001b[39melse\u001b[39;00m:\n\u001b[0;32m---> <a href='vscode-notebook-cell:/Users/mehmet/Documents/vs-code/EEE485-Statistical-Learning-and-Data-Analytics/svm.ipynb#W3sZmlsZQ%3D%3D?line=20'>21</a>\u001b[0m     \u001b[39mself\u001b[39m\u001b[39m.\u001b[39mw \u001b[39m-\u001b[39m\u001b[39m=\u001b[39m \u001b[39mself\u001b[39m\u001b[39m.\u001b[39mlr \u001b[39m*\u001b[39m (\u001b[39m2\u001b[39m \u001b[39m*\u001b[39m \u001b[39mself\u001b[39m\u001b[39m.\u001b[39mlambda_param \u001b[39m*\u001b[39m \u001b[39mself\u001b[39m\u001b[39m.\u001b[39mw \u001b[39m-\u001b[39m np\u001b[39m.\u001b[39;49mdot(x_i, y_[idx]))\n\u001b[1;32m     <a href='vscode-notebook-cell:/Users/mehmet/Documents/vs-code/EEE485-Statistical-Learning-and-Data-Analytics/svm.ipynb#W3sZmlsZQ%3D%3D?line=21'>22</a>\u001b[0m     \u001b[39mself\u001b[39m\u001b[39m.\u001b[39mb \u001b[39m-\u001b[39m\u001b[39m=\u001b[39m \u001b[39mself\u001b[39m\u001b[39m.\u001b[39mlr \u001b[39m*\u001b[39m y_[idx]\n",
      "File \u001b[0;32m<__array_function__ internals>:200\u001b[0m, in \u001b[0;36mdot\u001b[0;34m(*args, **kwargs)\u001b[0m\n",
      "\u001b[0;31mValueError\u001b[0m: shapes (10859,) and (4,) not aligned: 10859 (dim 0) != 4 (dim 0)"
     ]
    }
   ],
   "source": [
    "model = SVM()\n",
    "model.fit(X_train, y_train)\n"
   ]
  },
  {
   "cell_type": "code",
   "execution_count": null,
   "metadata": {},
   "outputs": [],
   "source": [
    "predictions = model.predict(X_test)\n",
    "print(\"SVM classification accuracy:\", model.accuracy(y_test, predictions))"
   ]
  }
 ],
 "metadata": {
  "kernelspec": {
   "display_name": "cs464",
   "language": "python",
   "name": "python3"
  },
  "language_info": {
   "codemirror_mode": {
    "name": "ipython",
    "version": 3
   },
   "file_extension": ".py",
   "mimetype": "text/x-python",
   "name": "python",
   "nbconvert_exporter": "python",
   "pygments_lexer": "ipython3",
   "version": "3.8.17"
  },
  "orig_nbformat": 4
 },
 "nbformat": 4,
 "nbformat_minor": 2
}
