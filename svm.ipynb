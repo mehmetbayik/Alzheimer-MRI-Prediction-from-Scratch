{
 "cells": [
  {
   "cell_type": "code",
   "execution_count": 15,
   "metadata": {},
   "outputs": [],
   "source": [
    "\"\"\" \n",
    "dependencies:\n",
    "  - python=3.8.17\n",
    "  - numpy=1.24.0\n",
    "  - matplotlib=3.7.1\n",
    "  - pandas=2.0.2 \n",
    "\"\"\"\n",
    "import os\n",
    "import random\n",
    "import datetime\n",
    "from itertools import product \n",
    "\n",
    "import numpy as np\n",
    "import pandas as pd\n",
    "import matplotlib.pyplot as plt \n",
    "\n",
    "# import random\n",
    "# random.seed(42)\n",
    "# np.random.seed(42)\n",
    "# np.random.RandomState(42)\n",
    "# os.environ['TF_DETERMINISTIC_OPS'] = '1' \n",
    "\n",
    "finish_sound = \"afplay /Users/mehmet/Documents/vs-code/winsquare.mp3\"\n",
    "# play sound when finished\n",
    "# os.system(finish_sound)"
   ]
  },
  {
   "cell_type": "code",
   "execution_count": 16,
   "metadata": {},
   "outputs": [
    {
     "name": "stdout",
     "output_type": "stream",
     "text": [
      "(5120, 10859) (5120, 4) \n",
      " (640, 10859) (640, 4) \n",
      " (640, 10859) (640, 4)\n"
     ]
    }
   ],
   "source": [
    "# Read data from npy file ( already preprocessed )\n",
    "filename = 'original-numpy'\n",
    "# filename = 'pca-numpy'\n",
    "X_train = np.load(f'dataset/{filename}/X_train.npy')\n",
    "X_val = np.load(f'dataset/{filename}/X_val.npy')\n",
    "X_test = np.load(f'dataset/{filename}/X_test.npy')\n",
    "y_train = np.load(f'dataset/{filename}/y_train.npy')\n",
    "y_val = np.load(f'dataset/{filename}/y_val.npy')\n",
    "y_test = np.load(f'dataset/{filename}/y_test.npy')\n",
    "\n",
    "# # Add Bias to X\n",
    "# X_train = np.concatenate((np.ones((X_train.shape[0], 1)), X_train), axis=1)\n",
    "# X_val = np.concatenate((np.ones((X_val.shape[0], 1)), X_val), axis=1)\n",
    "# X_test = np.concatenate((np.ones((X_test.shape[0], 1)), X_test), axis=1)\n",
    "# X_train.shape, X_val.shape, X_test.shape\n",
    "\n",
    "# # Remove one hot encoding from y\n",
    "# y_train = np.argmax(y_train, axis=1)\n",
    "# y_val = np.argmax(y_val, axis=1)\n",
    "# y_test = np.argmax(y_test, axis=1)\n",
    "\n",
    "print(X_train.shape, y_train.shape,'\\n', X_val.shape, y_val.shape,'\\n', X_test.shape, y_test.shape)\n",
    "\n"
   ]
  },
  {
   "cell_type": "code",
   "execution_count": 52,
   "metadata": {},
   "outputs": [],
   "source": [
    "class SVM:\n",
    "    def __init__(self):\n",
    "        self.weights = None\n",
    "        self.bias = None\n",
    "\n",
    "\n",
    "    def hinge_loss(self, scores, correct_class):\n",
    "        margins = np.maximum(0, scores - scores[correct_class] + 1)\n",
    "        margins[correct_class] = 0\n",
    "        loss = np.sum(margins)\n",
    "        return loss\n",
    "\n",
    "    def fit(self, X, y, X_val, y_val, learning_rate=0.01, lambda_param=0.01, num_epochs=1000):\n",
    "        num_samples, num_features = X.shape\n",
    "        num_classes = 4\n",
    "\n",
    "        #self.weights = np.random.rand(num_features, num_classes)\n",
    "        # zero initialization\n",
    "        self.weights = np.zeros((num_features, num_classes))\n",
    "        self.bias = np.zeros(num_classes)\n",
    "\n",
    "        y = np.argmax(y, axis=1)\n",
    "        y_val = np.argmax(y_val, axis=1)\n",
    "\n",
    "        for epoch in range(num_epochs):\n",
    "            scores = X.dot(self.weights) + self.bias\n",
    "            correct_class_mask = (np.arange(num_samples), y)\n",
    "\n",
    "            margins = np.maximum(0, scores - scores[correct_class_mask][:, np.newaxis] + 1)\n",
    "            margins[correct_class_mask] = 0\n",
    "\n",
    "            loss = np.sum(margins)\n",
    "\n",
    "            grad_mask = (margins > 0).astype(float)\n",
    "            grad_mask[correct_class_mask] = -np.sum(grad_mask, axis=1)\n",
    "\n",
    "            self.weights -= learning_rate * (X.T.dot(grad_mask) / num_samples + lambda_param * self.weights)\n",
    "            self.bias -= learning_rate * np.sum(grad_mask, axis=0) / num_samples\n",
    "            \n",
    "            if epoch %300 == 0 and epoch != 0:\n",
    "                learning_rate *= 1\n",
    "            # For each 100 epochs print losses and accuracy\n",
    "            if epoch % 100 == 0 and epoch != 0:\n",
    "                # how to calculate accuracy\n",
    "                predictions = self.predict(X)\n",
    "                accuracy = np.mean(predictions == y)      \n",
    "                val_predictions = self.predict(X_val)\n",
    "                val_accuracy = np.mean(val_predictions == y_val)   \n",
    "                print(f'Epoch: {epoch}, Loss: {loss}, Accuracy: {accuracy}, Val Accuracy: {val_accuracy}')\n",
    "\n",
    "    def predict(self, X):\n",
    "        scores = X.dot(self.weights) + self.bias\n",
    "        predictions = np.argmax(scores, axis=1)\n",
    "        return predictions\n"
   ]
  },
  {
   "cell_type": "code",
   "execution_count": 55,
   "metadata": {},
   "outputs": [
    {
     "name": "stdout",
     "output_type": "stream",
     "text": [
      "Epoch: 100, Loss: 4411.720326726839, Accuracy: 0.8197265625, Val Accuracy: 0.725\n",
      "Epoch: 200, Loss: 2498.1984240423826, Accuracy: 0.9052734375, Val Accuracy: 0.76875\n",
      "Epoch: 300, Loss: 1335.647511217695, Accuracy: 0.9490234375, Val Accuracy: 0.8296875\n",
      "Epoch: 400, Loss: 814.5437189148493, Accuracy: 0.9703125, Val Accuracy: 0.8390625\n",
      "Epoch: 500, Loss: 593.1004985560048, Accuracy: 0.97421875, Val Accuracy: 0.8578125\n",
      "Epoch: 600, Loss: 395.5487946886699, Accuracy: 0.9849609375, Val Accuracy: 0.8703125\n",
      "Epoch: 700, Loss: 271.51468081830285, Accuracy: 0.9921875, Val Accuracy: 0.8796875\n",
      "Epoch: 800, Loss: 198.9382802231686, Accuracy: 0.9947265625, Val Accuracy: 0.8859375\n",
      "Epoch: 900, Loss: 189.80854333737102, Accuracy: 0.9955078125, Val Accuracy: 0.8875\n",
      "Val. Accuracy: 0.89375\n",
      "Test Accuracy: 0.9359375\n"
     ]
    }
   ],
   "source": [
    "model = SVM()\n",
    "model.fit(X_train, y_train, X_val, y_val,\n",
    "        learning_rate=0.001, lambda_param=0.01, num_epochs=1000)\n",
    "\n",
    "# Val predictions\n",
    "predictions = model.predict(X_val)\n",
    "print('Val. Accuracy:',np.mean(predictions == np.argmax(y_val, axis=1)))\n",
    "\n",
    "# Test predictions\n",
    "predictions = model.predict(X_test)\n",
    "print('Test Accuracy:',np.mean(predictions == np.argmax(y_test, axis=1)))\n"
   ]
  }
 ],
 "metadata": {
  "kernelspec": {
   "display_name": "cs464",
   "language": "python",
   "name": "python3"
  },
  "language_info": {
   "codemirror_mode": {
    "name": "ipython",
    "version": 3
   },
   "file_extension": ".py",
   "mimetype": "text/x-python",
   "name": "python",
   "nbconvert_exporter": "python",
   "pygments_lexer": "ipython3",
   "version": "3.8.17"
  },
  "orig_nbformat": 4
 },
 "nbformat": 4,
 "nbformat_minor": 2
}
